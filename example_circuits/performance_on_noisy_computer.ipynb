{
 "cells": [
  {
   "cell_type": "code",
   "execution_count": 1,
   "metadata": {},
   "outputs": [],
   "source": [
    "# import required libraries\n",
    "# Qiskit Runtime Service is used to access the IBM Quantum hardware and simulators\n",
    "# SamplerV2 used for sampling from circuit\n",
    "# EstimatorV2 used for estimating expectation values\n",
    "from qiskit_ibm_runtime import QiskitRuntimeService, SamplerV2 as Sampler, EstimatorV2 as Estimator"
   ]
  },
  {
   "cell_type": "markdown",
   "metadata": {},
   "source": [
    "`get our backend`"
   ]
  },
  {
   "cell_type": "code",
   "execution_count": 3,
   "metadata": {},
   "outputs": [],
   "source": [
    "service = QiskitRuntimeService()\n",
    "backend = service.least_busy(simulator=False)"
   ]
  },
  {
   "cell_type": "markdown",
   "metadata": {},
   "source": [
    "`set up sampler and estimator`"
   ]
  },
  {
   "cell_type": "code",
   "execution_count": 5,
   "metadata": {},
   "outputs": [
    {
     "name": "stderr",
     "output_type": "stream",
     "text": [
      "/var/folders/z5/vj7wxths23768hdrgtg7ck6r0000gn/T/ipykernel_22475/1354052334.py:1: DeprecationWarning: The 'backend' keyword arguments are deprecated as of qiskit-ibm-runtime 0.24.0 and will be removed no sooner than 3 months after the release date. Please use the 'mode' parameter instead.\n",
      "  sampler = Sampler(backend=backend, options = None)\n",
      "/var/folders/z5/vj7wxths23768hdrgtg7ck6r0000gn/T/ipykernel_22475/1354052334.py:2: DeprecationWarning: The 'backend' keyword arguments are deprecated as of qiskit-ibm-runtime 0.24.0 and will be removed no sooner than 3 months after the release date. Please use the 'mode' parameter instead.\n",
      "  estimator = Estimator(backend=backend, options = None)\n"
     ]
    }
   ],
   "source": [
    "# these options will be configured later\n",
    "sampler = Sampler(backend=backend, options = None)\n",
    "estimator = Estimator(backend=backend, options = None)"
   ]
  },
  {
   "cell_type": "markdown",
   "metadata": {},
   "source": [
    "`example with no optimization`"
   ]
  },
  {
   "cell_type": "code",
   "execution_count": 8,
   "metadata": {},
   "outputs": [],
   "source": [
    "estimator.options.default_shots = 1024\n",
    "estimator.options.optimization_level = 0 # no circuit optimization\n",
    "estimator.options.resilience_level = 0 # no error mitigation"
   ]
  },
  {
   "cell_type": "markdown",
   "metadata": {},
   "source": [
    "`example of dynamical decoupling to mitigate cross-talk to idle qubits`"
   ]
  },
  {
   "cell_type": "code",
   "execution_count": null,
   "metadata": {},
   "outputs": [],
   "source": [
    "from qiskit_ibm_runtime import SamplerOptions, EstimatorOptions"
   ]
  },
  {
   "cell_type": "code",
   "execution_count": null,
   "metadata": {},
   "outputs": [],
   "source": [
    "options = SamplerOptions(default_shots = 1024)\n",
    "options = EstimatorOptions(default_shots = 1024, optimization_level = 0, resilience_level = 0)"
   ]
  },
  {
   "cell_type": "code",
   "execution_count": null,
   "metadata": {},
   "outputs": [],
   "source": [
    "# configurations\n",
    "# the following line does dynamical decoupling\n",
    "options.dynamical_decoupling.enable = True\n",
    "\n",
    "# extra configuration for dynamical decoupling\n",
    "options.dynamical_decoupling.sequence_type = 'XX'\n",
    "# puts coupling in the middle of idle time\n",
    "options.dynamical_decoupling.extra_slack_distribution = 'middle'\n",
    "options.dynamical_decoupling.scheduling_method = 'alap'"
   ]
  },
  {
   "cell_type": "markdown",
   "metadata": {},
   "source": [
    "`example of pauli twirling to limit noise`"
   ]
  },
  {
   "cell_type": "code",
   "execution_count": null,
   "metadata": {},
   "outputs": [],
   "source": [
    "options.twirling.enable_gates = True\n",
    "options.twirling.enable_measures = False\n",
    "options.twirling.num_randomizations = 'auto'\n",
    "options.twirling.shots_per_randomization = \"auto\"\n",
    "# twirl active qubits as they accumulate\n",
    "options.twirling.strategy = \"active-accum\""
   ]
  }
 ],
 "metadata": {
  "kernelspec": {
   "display_name": "quantum",
   "language": "python",
   "name": "python3"
  },
  "language_info": {
   "codemirror_mode": {
    "name": "ipython",
    "version": 3
   },
   "file_extension": ".py",
   "mimetype": "text/x-python",
   "name": "python",
   "nbconvert_exporter": "python",
   "pygments_lexer": "ipython3",
   "version": "3.11.9"
  }
 },
 "nbformat": 4,
 "nbformat_minor": 2
}
