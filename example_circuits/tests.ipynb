{
 "cells": [
  {
   "cell_type": "code",
   "execution_count": 2,
   "metadata": {},
   "outputs": [],
   "source": [
    "from qiskit.quantum_info import Statevector, Operator\n",
    "from numpy import sqrt\n",
    "from qiskit import QuantumCircuit, QuantumRegister, ClassicalRegister\n"
   ]
  },
  {
   "cell_type": "markdown",
   "metadata": {},
   "source": [
    "`question 11 on exam`"
   ]
  },
  {
   "cell_type": "code",
   "execution_count": 28,
   "metadata": {},
   "outputs": [
    {
     "data": {
      "image/png": "[encoded data removed]",
      "text/plain": [
       "<Figure size 519.897x200.667 with 1 Axes>"
      ]
     },
     "metadata": {},
     "output_type": "display_data"
    },
    {
     "name": "stdout",
     "output_type": "stream",
     "text": [
      "Unitary matrix of the circuit:\n",
      "[[ 0.+0.j  1.+0.j  0.+0.j  0.+0.j]\n",
      " [ 0.+0.j  0.+0.j  0.+0.j -1.+0.j]\n",
      " [ 1.+0.j  0.+0.j  0.+0.j  0.+0.j]\n",
      " [ 0.+0.j  0.+0.j  1.+0.j  0.+0.j]]\n"
     ]
    }
   ],
   "source": [
    "zero = QuantumRegister(1, \"0\")\n",
    "one = QuantumRegister(1, \"1\")\n",
    "# A = ClassicalRegister(1, \"A\")\n",
    "# B = ClassicalRegister(1, \"B\")\n",
    "\n",
    "circuit = QuantumCircuit(zero, one)\n",
    "\n",
    "init = [0, 0 , 1, 0]\n",
    "\n",
    "circuit.h(zero)\n",
    "circuit.cx(zero, one)\n",
    "circuit.z(one)\n",
    "circuit.cx(one, zero)\n",
    "circuit.h(one)\n",
    "\n",
    "# circuit.measure(zero, A)\n",
    "# circuit.measure(one, B)\n",
    "\n",
    "display(circuit.draw(\"mpl\"))\n",
    "\n",
    "unitary = Operator(circuit).data\n",
    "# unitary.draw(\"latex\")\n",
    "\n",
    "print(\"Unitary matrix of the circuit:\")\n",
    "print(unitary)"
   ]
  },
  {
   "cell_type": "code",
   "execution_count": 30,
   "metadata": {},
   "outputs": [
    {
     "data": {
      "image/png": "[encoded data removed]",
      "text/plain": [
       "<Figure size 352.675x200.667 with 1 Axes>"
      ]
     },
     "metadata": {},
     "output_type": "display_data"
    },
    {
     "name": "stdout",
     "output_type": "stream",
     "text": [
      "Unitary matrix of the circuit:\n",
      "[[ 0.5+0.j   0.5+0.j   0. +0.5j  0. +0.5j]\n",
      " [-0.5+0.j   0.5+0.j   0. +0.5j  0. -0.5j]\n",
      " [ 0.5+0.j   0.5+0.j   0. -0.5j  0. -0.5j]\n",
      " [-0.5+0.j   0.5+0.j   0. -0.5j  0. +0.5j]]\n"
     ]
    }
   ],
   "source": [
    "zero = QuantumRegister(1, \"0\")\n",
    "one = QuantumRegister(1, \"1\")\n",
    "# A = ClassicalRegister(1, \"A\")\n",
    "# B = ClassicalRegister(1, \"B\")\n",
    "\n",
    "circuit = QuantumCircuit(zero, one)\n",
    "\n",
    "init = [0, 0 , 1, 0]\n",
    "\n",
    "circuit.x(zero)\n",
    "circuit.s(one)\n",
    "circuit.cx(one, zero)\n",
    "circuit.h(zero)\n",
    "circuit.h(one)\n",
    "\n",
    "# circuit.measure(zero, A)\n",
    "# circuit.measure(one, B)\n",
    "\n",
    "display(circuit.draw(\"mpl\"))\n",
    "\n",
    "unitary = Operator(circuit).data\n",
    "# unitary.draw(\"latex\")\n",
    "\n",
    "print(\"Unitary matrix of the circuit:\")\n",
    "print(unitary)"
   ]
  },
  {
   "cell_type": "code",
   "execution_count": 24,
   "metadata": {},
   "outputs": [
    {
     "name": "stdout",
     "output_type": "stream",
     "text": [
      "               ┌───┐     ┌───┐\n",
      "q_0: ───────■──┤ Z ├──■──┤ H ├\n",
      "     ┌───┐┌─┴─┐└───┘┌─┴─┐└───┘\n",
      "q_1: ┤ H ├┤ X ├─────┤ X ├─────\n",
      "     └───┘└───┘     └───┘     \n",
      "Unitary matrix of the circuit:\n",
      "[[ 0.5+0.j -0.5+0.j  0.5+0.j -0.5+0.j]\n",
      " [ 0.5+0.j  0.5+0.j  0.5+0.j  0.5+0.j]\n",
      " [ 0.5+0.j -0.5+0.j -0.5+0.j  0.5+0.j]\n",
      " [ 0.5+0.j  0.5+0.j -0.5+0.j -0.5+0.j]]\n"
     ]
    }
   ],
   "source": [
    "# Create a quantum circuit with 2 qubits\n",
    "qc = QuantumCircuit(2)\n",
    "\n",
    "# Apply gates in the correct order for Qiskit\n",
    "qc.h(1)        # Apply H gate to the second qubit (I ⊗ H)\n",
    "qc.cx(0, 1)    # Apply CNOT gate with control on first qubit, target on second\n",
    "qc.z(0)        # Apply Z gate to the first qubit (Z ⊗ I)\n",
    "qc.cx(0, 1)    # Apply CNOT gate again\n",
    "qc.h(0)        # Apply H gate to the first qubit (H ⊗ I)\n",
    "\n",
    "# If you want to see the circuit\n",
    "print(qc)\n",
    "\n",
    "# If you want to get the unitary matrix of this circuit\n",
    "from qiskit.quantum_info import Operator\n",
    "unitary = Operator(qc).data\n",
    "print(\"Unitary matrix of the circuit:\")\n",
    "print(unitary)"
   ]
  },
  {
   "cell_type": "code",
   "execution_count": 23,
   "metadata": {},
   "outputs": [
    {
     "data": {
      "text/latex": [
       "$$\n",
       "\n",
       "\\begin{bmatrix}\n",
       "\\frac{\\sqrt{2}}{2} & \\frac{\\sqrt{2}}{2} & 0 & 0  \\\\\n",
       " \\frac{\\sqrt{2}}{2} & - \\frac{\\sqrt{2}}{2} & 0 & 0  \\\\\n",
       " 0 & 0 & \\frac{\\sqrt{2}}{2} & \\frac{\\sqrt{2}}{2}  \\\\\n",
       " 0 & 0 & \\frac{\\sqrt{2}}{2} & - \\frac{\\sqrt{2}}{2}  \\\\\n",
       " \\end{bmatrix}\n",
       "$$"
      ],
      "text/plain": [
       "<IPython.core.display.Latex object>"
      ]
     },
     "execution_count": 23,
     "metadata": {},
     "output_type": "execute_result"
    }
   ],
   "source": [
    "H = Operator([[1/sqrt(2), 1/sqrt(2)], [1/sqrt(2), -1/sqrt(2)]])\n",
    "Z = Operator([[1, 0], [0, -1]])\n",
    "I = Operator([[1, 0], [0, 1]])\n",
    "CX = Operator(\n",
    "    [\n",
    "        [1, 0, 0, 0],\n",
    "        [0, 1, 0, 0],\n",
    "        [0, 0, 0, 1],\n",
    "        [0, 0, 1, 0],\n",
    "    ]\n",
    ")\n",
    "\n",
    "\n",
    "m = I.tensor(H)\n",
    "m.draw(\"latex\")"
   ]
  },
  {
   "cell_type": "code",
   "execution_count": null,
   "metadata": {},
   "outputs": [],
   "source": []
  }
 ],
 "metadata": {
  "kernelspec": {
   "display_name": "quantum",
   "language": "python",
   "name": "python3"
  },
  "language_info": {
   "codemirror_mode": {
    "name": "ipython",
    "version": 3
   },
   "file_extension": ".py",
   "mimetype": "text/x-python",
   "name": "python",
   "nbconvert_exporter": "python",
   "pygments_lexer": "ipython3",
   "version": "3.11.9"
  }
 },
 "nbformat": 4,
 "nbformat_minor": 2
}
